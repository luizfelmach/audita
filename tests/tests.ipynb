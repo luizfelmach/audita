{
 "cells": [
  {
   "cell_type": "code",
   "execution_count": null,
   "metadata": {},
   "outputs": [],
   "source": [
    "import os\n",
    "import subprocess\n",
    "import time\n",
    "from datetime import datetime\n",
    "from influxdb import InfluxDBClient\n",
    "import pandas as pd\n",
    "import matplotlib.pyplot as plt"
   ]
  },
  {
   "cell_type": "code",
   "execution_count": null,
   "metadata": {},
   "outputs": [],
   "source": [
    "SERVER_CMD = \"audita-worker\"\n",
    "K6_SCRIPT = \"k6.js\"\n",
    "INFLUXDB_HOST = \"localhost\"\n",
    "INFLUXDB_PORT = 8086\n",
    "INFLUXDB_DB = 'k6'\n",
    "SERVER_LOG = \"server.log\"\n",
    "INFLUXDB_URL = f'http://{INFLUXDB_HOST}:{INFLUXDB_PORT}/{INFLUXDB_DB}'"
   ]
  },
  {
   "cell_type": "code",
   "execution_count": null,
   "metadata": {},
   "outputs": [],
   "source": [
    "configurations = [\n",
    "    {'workers': 1, 'dispatchers': 1, 'batch': 1, 'queue': 200000},\n",
    "    {'workers': 8, 'dispatchers': 1, 'batch': 1, 'queue': 200000}\n",
    "]\n",
    "reports = []"
   ]
  },
  {
   "cell_type": "code",
   "execution_count": null,
   "metadata": {},
   "outputs": [],
   "source": [
    "client = InfluxDBClient(\n",
    "    host=INFLUXDB_HOST,\n",
    "    port=INFLUXDB_PORT,\n",
    "    database=INFLUXDB_DB\n",
    ")"
   ]
  },
  {
   "cell_type": "code",
   "execution_count": null,
   "metadata": {},
   "outputs": [],
   "source": [
    "for config in configurations:\n",
    "    workers = config['workers']\n",
    "    dispatchers = config['dispatchers']\n",
    "    batch = config['batch']\n",
    "    queue = config['queue']\n",
    "\n",
    "    env = os.environ.copy()\n",
    "    env['THREADS_WORKERS'] = str(workers)\n",
    "    env['THREADS_DISPATCHERS'] = str(dispatchers)\n",
    "    env['BATCH_SIZE'] = str(batch)\n",
    "    env['QUEUE_SIZE'] = str(queue)\n",
    "\n",
    "    with open(SERVER_LOG, 'a') as log:\n",
    "        server_process = subprocess.Popen(\n",
    "            SERVER_CMD,\n",
    "            env=env,\n",
    "            stdout=log,\n",
    "            stderr=subprocess.STDOUT,\n",
    "            shell=True,\n",
    "            text=True\n",
    "        )\n",
    "\n",
    "    time.sleep(3)\n",
    "\n",
    "    start_time = datetime.now()\n",
    "\n",
    "    try:\n",
    "        subprocess.run([\n",
    "            'k6', 'run', K6_SCRIPT,\n",
    "            '--out', f'influxdb={INFLUXDB_URL}',\n",
    "            '--tag', f'config=Workers:{workers}_Dispatchers:{dispatchers}_Batch:{batch}'\n",
    "        ], check=True)\n",
    "\n",
    "    finally:\n",
    "        end_time = datetime.now()\n",
    "        server_process.terminate()\n",
    "        server_process.wait()\n",
    "        time.sleep(1)\n",
    "\n",
    "    reports.append((start_time, end_time, config))"
   ]
  },
  {
   "cell_type": "code",
   "execution_count": null,
   "metadata": {},
   "outputs": [],
   "source": [
    "reports"
   ]
  },
  {
   "cell_type": "code",
   "execution_count": null,
   "metadata": {},
   "outputs": [],
   "source": [
    "def http_reqs_grouped_by_time(start_time, end_time):\n",
    "    start_rfc = start_time.astimezone().isoformat('T', 'seconds')\n",
    "    end_rfc = end_time.astimezone().isoformat('T', 'seconds')\n",
    "\n",
    "    query = f\"\"\"\n",
    "    SELECT\n",
    "        sum(value)\n",
    "    FROM http_reqs\n",
    "    WHERE time > '{start_rfc}'\n",
    "        AND time < '{end_rfc}'\n",
    "    GROUP BY time(1s)\n",
    "    \"\"\"\n",
    "\n",
    "    try:\n",
    "        result = client.query(query)\n",
    "        return result.get_points()\n",
    "\n",
    "    except Exception as e:\n",
    "        print(f\"❌ Erro na consulta: {str(e)}\")\n",
    "\n",
    "def http_req_duration_grouped_by_time(start_time, end_time):\n",
    "    start_rfc = start_time.astimezone().isoformat('T', 'seconds')\n",
    "    end_rfc = end_time.astimezone().isoformat('T', 'seconds')\n",
    "\n",
    "    query = f\"\"\"\n",
    "    SELECT\n",
    "        mean(value)\n",
    "    FROM http_req_duration\n",
    "    WHERE time > '{start_rfc}'\n",
    "        AND time < '{end_rfc}'\n",
    "    GROUP BY time(1s)\n",
    "    \"\"\"\n",
    "\n",
    "    try:\n",
    "        result = client.query(query)\n",
    "        return result.get_points()\n",
    "\n",
    "    except Exception as e:\n",
    "        print(f\"❌ Erro na consulta: {str(e)}\")"
   ]
  },
  {
   "cell_type": "code",
   "execution_count": null,
   "metadata": {},
   "outputs": [],
   "source": [
    "plt.style.use('seaborn-v0_8-darkgrid')\n",
    "plt.figure(figsize=(10, 5))\n",
    "\n",
    "for i, report in enumerate(sorted(reports)):\n",
    "    http_reqs = http_reqs_grouped_by_time(report[0], report[1])\n",
    "    df = pd.DataFrame(http_reqs)\n",
    "\n",
    "    color = plt.cm.viridis(i / len(reports))\n",
    "\n",
    "    plt.plot(df.index, df['sum'],\n",
    "             marker=\"o\", linestyle=\"-\", linewidth=2, markersize=5,\n",
    "             label=f\"Dataset {report[2]}\", color=color)\n",
    "\n",
    "plt.xlabel(\"Tempo (s)\", fontsize=10)\n",
    "plt.ylabel(\"Requisições\", fontsize=10)\n",
    "plt.title(\"Requisições por segundo\", fontsize=12)\n",
    "plt.legend(title=\"Conjunto de Dados\", fontsize=10)\n",
    "plt.grid(linestyle=\"--\", alpha=0.6)\n",
    "plt.show()\n"
   ]
  },
  {
   "cell_type": "code",
   "execution_count": null,
   "metadata": {},
   "outputs": [],
   "source": [
    "plt.style.use('seaborn-v0_8-darkgrid')\n",
    "plt.figure(figsize=(10, 5))\n",
    "\n",
    "for i, report in enumerate(sorted(reports)):\n",
    "    http_req_duration = http_req_duration_grouped_by_time(report[0], report[1])\n",
    "    df = pd.DataFrame(http_req_duration)\n",
    "\n",
    "    color = plt.cm.viridis(i / len(reports))\n",
    "\n",
    "    plt.plot(df.index, df['mean'],\n",
    "             marker=\"o\", linestyle=\"-\", linewidth=2, markersize=5,\n",
    "             label=f\"Dataset {report[2]}\", color=color)\n",
    "\n",
    "plt.xlabel(\"Tempo (s)\", fontsize=10)\n",
    "plt.ylabel(\"Tempo (ms)\", fontsize=10)\n",
    "plt.title(\"Latência média\", fontsize=12)\n",
    "plt.legend(title=\"Conjunto de Dados\", fontsize=10)\n",
    "plt.grid(linestyle=\"--\", alpha=0.6)\n",
    "\n",
    "plt.show()"
   ]
  },
  {
   "cell_type": "code",
   "execution_count": null,
   "metadata": {},
   "outputs": [],
   "source": []
  },
  {
   "cell_type": "code",
   "execution_count": null,
   "metadata": {},
   "outputs": [],
   "source": []
  }
 ],
 "metadata": {
  "kernelspec": {
   "display_name": ".venv",
   "language": "python",
   "name": "python3"
  },
  "language_info": {
   "codemirror_mode": {
    "name": "ipython",
    "version": 3
   },
   "file_extension": ".py",
   "mimetype": "text/x-python",
   "name": "python",
   "nbconvert_exporter": "python",
   "pygments_lexer": "ipython3",
   "version": "3.13.2"
  }
 },
 "nbformat": 4,
 "nbformat_minor": 2
}
